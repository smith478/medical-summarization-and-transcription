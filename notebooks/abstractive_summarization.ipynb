{
 "cells": [
  {
   "cell_type": "markdown",
   "id": "3a12a535-237e-456b-854a-a061e9434800",
   "metadata": {},
   "source": [
    "## Idea\n",
    "\n",
    "There are 2 types of summarization \"extractive\" and \"abstractive\". In `summarization.ipynb` extractive summarization is used where key sentences in the text are identified and pulled out verbatim to summarize the text. Here will use text generation model that will try to distill the text into a summary by creating new text."
   ]
  },
  {
   "cell_type": "code",
   "execution_count": null,
   "id": "9f71f12a-6e48-4c73-ae28-01201bdfae20",
   "metadata": {},
   "outputs": [],
   "source": [
    "import torch\n",
    "from transformers import AutoModelForCausalLM, AutoTokenizer"
   ]
  },
  {
   "cell_type": "code",
   "execution_count": null,
   "id": "3c0c1c0a-5c7f-4fc7-8255-3f7b7ac73148",
   "metadata": {},
   "outputs": [],
   "source": [
    "# Specify the device\n",
    "device = torch.device(\"cpu\")\n",
    "# device = torch.device(\"cuda\")"
   ]
  },
  {
   "cell_type": "code",
   "execution_count": null,
   "id": "224e84b6-2421-4b98-8b1a-0fadcf9e4eb4",
   "metadata": {},
   "outputs": [],
   "source": [
    "# MODEL = \"microsoft/phi-2\" # This one is mostly intended for coding \n",
    "# MODEL = \"stabilityai/stablelm-zephyr-3b\" # OOM \n",
    "# MODEL = \"allenai/OLMo-1B\" # This has additional allen ai dependencies and python 3.9 or later\n",
    "# MODEL = \"allenai/OLMo-7B\" # This has additional allen ai dependencies and python 3.9 or later (This one seems like the third best so far)\n",
    "# MODEL = \"TinyLlama/TinyLlama-1.1B-Chat-v1.0\"\n",
    "# MODEL = \"stabilityai/stablelm-2-1_6b\"\n",
    "# MODEL = \"mistralai/Mixtral-8x7B-v0.1\" # Not enough GPU memory\n",
    "MODEL = \"berkeley-nest/Starling-LM-7B-alpha\" # (This is the best one so far!)\n",
    "# MODEL = \"HuggingFaceH4/zephyr-7b-beta\" # (This one is very good, tied for second best maybe a bit better than openchat. It is also relatively fast)\n",
    "# MODEL = \"openchat/openchat_3.5\" # (This one is the second best so far)\n",
    "# MODEL = \"mistralai/Mistral-7B-v0.1\""
   ]
  },
  {
   "cell_type": "code",
   "execution_count": null,
   "id": "098a899c-24f1-4d20-9ea2-e38004b8a22c",
   "metadata": {},
   "outputs": [],
   "source": [
    "# Remove this to pull the model from huggingface rather than local\n",
    "LOCAL_DIR = '../saved_models'\n",
    "LOCAL_MODEL = f'{LOCAL_DIR}/{MODEL}'"
   ]
  },
  {
   "cell_type": "code",
   "execution_count": null,
   "id": "b89ce84e-f4ad-4d88-a80b-885ccafd451d",
   "metadata": {},
   "outputs": [],
   "source": [
    "# For TinyLlama\n",
    "if MODEL == \"TinyLlama/TinyLlama-1.1B-Chat-v1.0\":\n",
    "    torch.backends.cuda.enable_mem_efficient_sdp(False)\n",
    "    torch.backends.cuda.enable_flash_sdp(False)"
   ]
  },
  {
   "cell_type": "code",
   "execution_count": null,
   "id": "5e70c6ae-88d9-4b40-92d3-03771f0e8cd2",
   "metadata": {},
   "outputs": [],
   "source": [
    "if MODEL == \"TinyLlama/TinyLlama-1.1B-Chat-v1.0\":\n",
    "    torch.set_default_device(\"cuda\")\n",
    "    model = AutoModelForCausalLM.from_pretrained(MODEL, torch_dtype=\"auto\", trust_remote_code=True)\n",
    "elif MODEL == \"mistralai/Mixtral-8x7B-v0.1\":\n",
    "    model = AutoModelForCausalLM.from_pretrained(MODEL, load_in_4bit=True).to(device)\n",
    "else:\n",
    "    model = AutoModelForCausalLM.from_pretrained(LOCAL_MODEL, trust_remote_code=True)\n",
    "# model = AutoModelForCausalLM.from_pretrained(MODEL, torch_dtype=torch.float16, trust_remote_code=True)\n",
    "tokenizer = AutoTokenizer.from_pretrained(MODEL, trust_remote_code=True)"
   ]
  },
  {
   "cell_type": "code",
   "execution_count": null,
   "id": "82195b43-5bae-4ddd-a45e-9b71768a6e9c",
   "metadata": {},
   "outputs": [],
   "source": [
    "MEDICAL_HISTORY_1 = \"\"\"\n",
    "Chief Concern: Chest pain for 1 month\n",
    "HPI: Mr. PH is a 52 y/o accountant with hypercholesterolemia and polycythemia vera who has\n",
    "been in relatively good health (except for problem #2 below) until one month ago when he\n",
    "noticed chest tightness with exertion. The patient decided to lose weight through exercising\n",
    "and began to run. When running greater than six to seven blocks, the patient developed a tight\n",
    "feeling in his chest that subsided in approximately five minutes after he stopped running.\n",
    "Initially, the feeling was mild, occurred only with the running and was associated with no other\n",
    "symptoms. It did not radiate. On the night prior to admission, while watching TV, he had the\n",
    "same pain, except this time it was of increased intensity (10/10), lasted 20 minutes, and was\n",
    "associated with shortness of breath and a brief period of profuse diaphoresis. Regarding risk\n",
    "factors for coronary artery disease, the patient does not smoke, has no high blood pressure or\n",
    "diabetes, has borderline high cholesterol, and patient's father died suddenly at age 40 from a\n",
    "presumed heart attack.\n",
    "The patient is concerned that he has the same problem that his father had and that he has the\n",
    "same potential to \"drop dead\". He normally has sexual intercourse with his wife one to two\n",
    "times per week, but because of the fear of having the pain during intercourse the patient has\n",
    "avoided any intimate contact with his wife.\n",
    "Problem #2 Polycythemia Vera: three years ago, during a routine physical for work, the patient\n",
    "was found to have elevated hemoglobin and was worked-up at LUMC by Dr. Smith. His red\n",
    "blood cell mass was high and the patient was found to have primary Polycythemia Vera. Initially\n",
    "he was treated with monthly phlebotomies, but for the last year has received a phlebotomy\n",
    "only once every six months. He has no symptoms of this illness.\n",
    "The patient is aware of the possible complications of this illness. Initially, he worried about\n",
    "them, but for the last year, since he has felt well; he accepts the illness and sees his\n",
    "Hematologist on a regular basis.\n",
    "\"\"\""
   ]
  },
  {
   "cell_type": "code",
   "execution_count": null,
   "id": "8451d4f3-dc2c-45ac-ae45-71467320cc87",
   "metadata": {},
   "outputs": [],
   "source": [
    "MEDICAL_HISTORY_2 = \"\"\"\n",
    "Harley, a nine-year-old spayed female beagle presented to the emergency service for a five-day history of hyporexia, \n",
    "which has progressed to a two-day history of anorexia. Harley also started exhibiting lethargy three days ago and had \n",
    "one episode of vomiting two days ago. She has typically eaten Purina ProPlan, kibble and rice twice daily. She's still \n",
    "drinking water. No episodes of diarrhea are noted, period. The owners noted that she was, had an increase in her \n",
    "respiratory rate and effort over the past 48 hours. On presentation, her mucous membranes were pale pink. with a CRT of \n",
    "approximately two seconds. Her heart rate was 124. No murmurs were escorted. Few crackles were noted in her right ventral \n",
    "thorax. Her abdomen was tense on palpation and moderately distended. Thin abdominal skin was noted. On abdominal palpation, \n",
    "the liver palpated large and rounded, and a firm mass was palpable in the right cranial quadrant. No fluid wave was \n",
    "appreciated. No peripheral lymph node enlargement was identified. Her pulses were rapid and bounding. Rectal examination was \n",
    "within normal. on the limits. We discussed obtaining CBC serum chemistry thoracic and abdominal radiographs. As a baseline, \n",
    "thoracic radiographs showed an interstitial pattern.\n",
    "\"\"\""
   ]
  },
  {
   "cell_type": "code",
   "execution_count": null,
   "id": "1cc0fa93-74c0-48de-a112-f508e18b5931",
   "metadata": {},
   "outputs": [],
   "source": [
    "MEDICAL_DOCUMENT = \"\"\" \n",
    "duplications of the alimentary tract are well - known but rare congenital malformations that can occur anywhere in the gastrointestinal ( gi ) tract from the tongue to the anus . while midgut duplications are the most common , foregut duplications such as oesophagus , stomach , and parts 1 and 2 of the duodenum account for approximately one - third of cases . \n",
    " they are most commonly seen either in the thorax or abdomen or in both as congenital thoracoabdominal duplications . \n",
    " cystic oesophageal duplication ( ced ) , the most common presentation , is often found in the lower third part ( 60 - 95% ) and on the right side [ 2 , 3 ] . hydatid cyst ( hc ) is still an important health problem throughout the world , particularly in latin america , africa , and mediterranean areas . \n",
    " turkey , located in the mediterranean area , shares this problem , with an estimated incidence of 20/100 000 . \n",
    " most commonly reported effected organ is liver , but in children the lungs are the second most frequent site of involvement [ 4 , 5 ] . in both ced and hc , the presentation depends on the site and the size of the cyst . \n",
    " hydatid cysts are far more common than other cystic intrathoracic lesions , especially in endemic areas , so it is a challenge to differentiate ced from hc in these countries . here , \n",
    " we present a 7-year - old girl with intrathoracic cystic mass lesion , who had been treated for hydatid cyst for 9 months , but who turned out to have oesophageal cystic duplication . \n",
    " a 7-year - old girl was referred to our clinic with coincidentally established cystic intrathoracic lesion during the investigation of aetiology of anaemia . \n",
    " the child was first admitted with loss of vision in another hospital ten months previously . \n",
    " the patient 's complaints had been attributed to pseudotumour cerebri due to severe iron deficiency anaemia ( haemoglobin : 3 g / dl ) . \n",
    " chest radiography and computed tomography ( ct ) images resulted in a diagnosis of cystic intrathoracic lesion ( fig . \n",
    " the cystic mass was accepted as a type 1 hydatid cyst according to world health organization ( who ) classification . \n",
    " after 9 months of medication , no regression was detected in ct images , so the patient was referred to our department . \n",
    " an ondirect haemagglutination test result was again negative . during surgery , after left thoracotomy incision , a semi - mobile cystic lesion , which was almost seven centimetres in diameter , with smooth contour , was found above the diaphragm , below the lung , outside the pleura ( fig . \n",
    " the entire fluid in the cyst was aspirated ; it was brown and bloody ( fig . \n",
    " 2 ) . the diagnosis of cystic oesophageal duplication was considered , and so an attachment point was searched for . \n",
    " it was below the hiatus , on the lower third left side of the oesophagus , and it also was excised completely through the hiatus . \n",
    " pathologic analysis of the specimen showed oesophageal mucosa with an underlying proper smooth muscle layer . \n",
    " computed tomography image of the cystic intrathoracic lesion cystic lesion with brownish fluid in the cyst \n",
    " compressible organs facilitate the growth of the cyst , and this has been proposed as a reason for the apparent prevalence of lung involvement in children . diagnosis is often incidental and can be made with serological tests and imaging [ 5 , 7 ] . \n",
    " laboratory investigations include the casoni and weinberg skin tests , indirect haemagglutination test , elisa , and the presence of eosinophilia , but can be falsely negative because children may have a poor serological response to eg . \n",
    " false - positive reactions are related to the antigenic commonality among cestodes and conversely seronegativity can not exclude hydatidosis . \n",
    " false - negative results are observed when cysts are calcified , even if fertile [ 4 , 8 ] . in our patient iha levels were negative twice . \n",
    " due to the relatively non - specific clinical signs , diagnosis can only be made confidently using appropriate imaging . \n",
    " plain radiographs , ultrasonography ( us ) , or ct scans are sufficient for diagnosis , but magnetic resonance imaging ( mri ) is also very useful [ 5 , 9 ] . \n",
    " computed tomography demonstrates cyst wall calcification , infection , peritoneal seeding , bone involvement fluid density of intact cysts , and the characteristic internal structure of both uncomplicated and ruptured cysts [ 5 , 9 ] . \n",
    " the conventional treatment of hydatid cysts in all organs is surgical . in children , small hydatid cysts of the lungs \n",
    " respond favourably to medical treatment with oral administration of certain antihelminthic drugs such as albendazole in certain selected patients . \n",
    " the response to therapy differs according to age , cyst size , cyst structure ( presence of daughter cysts inside the mother cysts and thickness of the pericystic capsule allowing penetration of the drugs ) , and localization of the cyst . in children , small cysts with thin pericystic capsule localised in the brain and lungs respond favourably [ 6 , 11 ] . \n",
    " respiratory symptoms are seen predominantly in cases before two years of age . in our patient , who has vision loss , the asymptomatic duplication cyst was found incidentally . \n",
    " the lesion occupied the left hemithorax although the most common localisation reported in the literature is the lower and right oesophagus . \n",
    " the presentation depends on the site and the size of the malformations , varying from dysphagia and respiratory distress to a lump and perforation or bleeding into the intestine , but cysts are mostly diagnosed incidentally . \n",
    " if a cystic mass is suspected in the chest , the best technique for evaluation is ct . \n",
    " magnetic resonance imaging can be used to detail the intimate nature of the cyst with the spinal canal . \n",
    " duplications should have all three typical signs : first of all , they should be attached to at least one point of the alimentary tract ; second and third are that they should have a well - developed smooth muscle coat , and the epithelial lining of duplication should represent some portions of alimentary tract , respectively [ 2 , 10 , 12 ] . in summary , the cystic appearance of both can cause a misdiagnosis very easily due to the rarity of cystic oesophageal duplications as well as the higher incidence of hydatid cyst , especially in endemic areas . \n",
    "\"\"\""
   ]
  },
  {
   "cell_type": "markdown",
   "id": "f0fda624-3d9b-4368-bfcb-4e73aa05c1d1",
   "metadata": {},
   "source": [
    "## Summary prompt"
   ]
  },
  {
   "cell_type": "code",
   "execution_count": null,
   "id": "eebbff1e-9f81-4f01-9ff6-f934ff2f4b07",
   "metadata": {},
   "outputs": [],
   "source": [
    "prompt = f\"\"\"\n",
    "Provide a very short and concise summary, no more than three sentences, for the following medical history:\n",
    "\n",
    "{MEDICAL_HISTORY_2}\n",
    "\n",
    "Summary:\n",
    "\n",
    "\"\"\"\n",
    "\n",
    "if MODEL in [\"allenai/OLMo-1B\", \"allenai/OLMo-7B\"]:\n",
    "    inputs = tokenizer(prompt, return_tensors='pt', return_token_type_ids=False)\n",
    "    outputs = model.generate(**inputs, max_new_tokens=500, do_sample=True, top_k=50, top_p=0.95)\n",
    "    text = tokenizer.batch_decode(outputs)[0]\n",
    "else:\n",
    "    if MODEL == \"mistralai/Mixtral-8x7B-v0.1\":\n",
    "        inputs = tokenizer(prompt, return_tensors=\"pt\").to(device)\n",
    "    inputs = tokenizer(prompt, return_tensors=\"pt\", return_attention_mask=False)\n",
    "    outputs = model.generate(**inputs, max_length=1600)\n",
    "    text = tokenizer.batch_decode(outputs, skip_special_tokens=True)[0]\n",
    "    text = text.rstrip()\n",
    "print(text)"
   ]
  },
  {
   "cell_type": "markdown",
   "id": "1d313153-74bf-4635-bf4e-7dec2e3db584",
   "metadata": {},
   "source": [
    "## tl;dr prompt"
   ]
  },
  {
   "cell_type": "code",
   "execution_count": null,
   "id": "71f94db7-9233-4344-8362-eac9e99db83c",
   "metadata": {},
   "outputs": [],
   "source": [
    "prompt = f\"\"\"\n",
    "Provide a very short and concise TL;DR for the following medical history:\n",
    "\n",
    "{MEDICAL_HISTORY_2}\n",
    "\n",
    "TL;DR:\n",
    "\n",
    "\"\"\"\n",
    "\n",
    "if MODEL in [\"allenai/OLMo-1B\", \"allenai/OLMo-7B\"]:\n",
    "    inputs = tokenizer(prompt, return_tensors='pt', return_token_type_ids=False)\n",
    "    outputs = model.generate(**inputs, max_new_tokens=500, do_sample=True, top_k=50, top_p=0.95)\n",
    "    text = tokenizer.batch_decode(outputs)[0]\n",
    "else:\n",
    "    inputs = tokenizer(prompt, return_tensors=\"pt\", return_attention_mask=False)\n",
    "    outputs = model.generate(**inputs, max_length=1600)\n",
    "    text = tokenizer.batch_decode(outputs, skip_special_tokens=True)[0]\n",
    "    text = text.rstrip()\n",
    "print(text)"
   ]
  },
  {
   "cell_type": "markdown",
   "id": "be2e57b3-9866-4c5d-834a-2e3ee6f84fe8",
   "metadata": {},
   "source": [
    "## Bulletpoint prompt"
   ]
  },
  {
   "cell_type": "code",
   "execution_count": null,
   "id": "d7999577-770f-4000-a1bb-ae703b7cfd52",
   "metadata": {},
   "outputs": [],
   "source": [
    "prompt = f\"\"\"\n",
    "Provide a short and concise summary in a few bullet points for the following medical history. Exclude any normal findings from the summary, but include any measurements:\n",
    "\n",
    "{MEDICAL_HISTORY_2}\n",
    "\n",
    "Bulletpoints:\n",
    "\n",
    "\"\"\"\n",
    "\n",
    "if MODEL in [\"allenai/OLMo-1B\", \"allenai/OLMo-7B\"]:\n",
    "    inputs = tokenizer(prompt, return_tensors='pt', return_token_type_ids=False)\n",
    "    outputs = model.generate(**inputs, max_new_tokens=500, do_sample=True, top_k=50, top_p=0.95)\n",
    "    text = tokenizer.batch_decode(outputs)[0]\n",
    "else:\n",
    "    inputs = tokenizer(prompt, return_tensors=\"pt\", return_attention_mask=False)\n",
    "    outputs = model.generate(**inputs, max_length=1600)\n",
    "    text = tokenizer.batch_decode(outputs, skip_special_tokens=True)[0]\n",
    "    text = text.rstrip()\n",
    "print(text)"
   ]
  },
  {
   "cell_type": "markdown",
   "id": "a9bed222-0d77-451e-95f6-1d808b6a8d37",
   "metadata": {},
   "source": [
    "## Clean up repeating output strings\n",
    "\n",
    "Generative LLMs will often produce repeating text. We should clean up the text and remove all the repeated text."
   ]
  },
  {
   "cell_type": "code",
   "execution_count": null,
   "id": "63c28ba2-b3cf-4740-a286-591cee6ad814",
   "metadata": {},
   "outputs": [],
   "source": [
    "SAMPLE_TEXT = \"\"\"\n",
    "Provide a very short and concise summary, no more than three sentences, for the following medical history:\n",
    "\n",
    "\n",
    "Harley, a nine-year-old spayed female beagle presented to the emergency service for a five-day history of hyporexia, \n",
    "which has progressed to a two-day history of anorexia. Harley also started exhibiting lethargy three days ago and had \n",
    "one episode of vomiting two days ago. She has typically eaten Purina ProPlan, kibble and rice twice daily. She's still \n",
    "drinking water. No episodes of diarrhea are noted, period. The owners noted that she was, had an increase in her \n",
    "respiratory rate and effort over the past 48 hours. On presentation, her mucous membranes were pale pink. with a CRT of \n",
    "approximately two seconds. Her heart rate was 124. No murmurs were escorted. Few crackles were noted in her right ventral \n",
    "thorax. Her abdomen was tense on palpation and moderately distended. Thin abdominal skin was noted. On abdominal palpation, \n",
    "the liver palpated large and rounded, and a firm mass was palpable in the right cranial quadrant. No fluid wave was \n",
    "appreciated. No peripheral lymph node enlargement was identified. Her pulses were rapid and bounding. Rectal examination was \n",
    "within normal. on the limits. We discussed obtaining CBC serum chemistry thoracic and abdominal radiographs. As a baseline, \n",
    "thoracic radiographs showed an interstitial pattern.\n",
    "\n",
    "\n",
    "Summary:\n",
    "\n",
    "\n",
    "Harley, a nine-year-old spayed female beagle, presented with a five-day history of hyporexia and a two-day history of anorexia, \n",
    "lethargy, and one episode of vomiting. She has a history of eating Purina ProPlan kibble and rice twice daily and is still drinking water. \n",
    "Her respiratory rate and effort have increased over the past 48 hours, and her mucous membranes are pale pink with a CRT of \n",
    "approximately two seconds. Her heart rate is 124, with no murmurs. Few crackles are noted in her right ventral thorax, and her abdomen \n",
    "is tense and moderately distended. Her liver is large and rounded, and a firm mass is palpable in the right cranial quadrant. \n",
    "Thoracic radiographs show an interstitial pattern.\n",
    "\n",
    "\n",
    "Summary:\n",
    "\n",
    "\n",
    "Nine-year-old spayed female beagle Harley presented with hyporexia, anorexia, lethargy, and vomiting. She has a history of eating \n",
    "Purina ProPlan kibble and rice twice daily and is still drinking water. Her respiratory rate and effort have increased, and her mucous \n",
    "membranes are pale pink. Her heart rate is 124, with no murmurs. Few crackles are noted in her right ventral thorax, and her abdomen \n",
    "is tense and distended. Her liver is large and rounded, and a firm mass is palpable in the right cranial quadrant. Thoracic radiographs \n",
    "show an interstitial pattern.\n",
    "\n",
    "\n",
    "Summary:\n",
    "\n",
    "\n",
    "Harley, a nine-year-old spayed female beagle, presented with hyporexia, anorexia, lethargy, and vomiting. She has a history of eating \n",
    "Purina ProPlan kibble and rice twice daily and is still drinking water. Her respiratory rate and effort have increased, and her mucous \n",
    "membranes are pale pink. Her heart rate is 124, with no murmurs. Few crackles are noted in her right ventral thorax, and her abdomen \n",
    "is tense and distended. Her liver is large and rounded, and a firm mass is palpable in the right cranial quadrant. Thoracic radiographs \n",
    "show an interstitial pattern.\n",
    "\"\"\""
   ]
  },
  {
   "cell_type": "code",
   "execution_count": null,
   "id": "90c3b65f-0f98-4c67-813c-258aa5958569",
   "metadata": {},
   "outputs": [],
   "source": [
    "def get_text_after_keyword(text, keyword):\n",
    "    keyword_index = text.find(keyword)\n",
    "    if keyword_index == -1:\n",
    "        return None  # Keyword not found in text\n",
    "    keyword_index += len(keyword)\n",
    "    return text[keyword_index - len(keyword):].strip()\n",
    "\n",
    "# Test the function\n",
    "keyword = \"Summary:\"\n",
    "print(get_text_after_keyword(SAMPLE_TEXT, keyword))  # Output: \"This is the summary of the document.\""
   ]
  },
  {
   "cell_type": "code",
   "execution_count": null,
   "id": "311bbe09-54e8-4cf6-9659-2a479a1a9b94",
   "metadata": {},
   "outputs": [],
   "source": [
    "import re\n",
    "\n",
    "def find_repeating_substrings(s, min_length):\n",
    "    pattern = r'(.{{{}}}.+?)\\1+'.format(min_length)\n",
    "    matches = re.findall(pattern, s)\n",
    "    return matches\n",
    "\n",
    "# Test the function\n",
    "print(find_repeating_substrings(SAMPLE_TEXT, 10))  # Output: ['This is a test. ']"
   ]
  },
  {
   "cell_type": "markdown",
   "id": "33a1741b-6cba-4570-8432-b45a72df97e5",
   "metadata": {},
   "source": [
    "## Save pretrained model to disk"
   ]
  },
  {
   "cell_type": "code",
   "execution_count": null,
   "id": "40627926-fc0b-4bb8-afe1-9f99ea06d8fa",
   "metadata": {},
   "outputs": [],
   "source": [
    "model.save_pretrained(f\"{LOCAL_DIR}/{MODEL}\")"
   ]
  },
  {
   "cell_type": "markdown",
   "id": "29c29efb-0140-425c-8856-97622fd7b407",
   "metadata": {},
   "source": [
    "## Run Mixtral on CPU\n",
    "\n",
    "- NOTE: Leaving this code here for future use, but I haven't been able to get this to run without OOM errors\n",
    "- Also test: https://huggingface.co/abacusai/Smaug-72B-v0.1\n",
    "- For loading larger models into memory see this: https://huggingface.co/docs/accelerate/en/concept_guides/big_model_inference\n",
    "- Or for running models on the CPU see this: https://medium.com/@sangeedh20/running-llama-2-chat-model-on-cpu-server-890825584246"
   ]
  },
  {
   "cell_type": "code",
   "execution_count": null,
   "id": "159db0c1-c294-4fdf-b3aa-e1b357c3aba7",
   "metadata": {},
   "outputs": [],
   "source": [
    "import torch\n",
    "from transformers import AutoModelForCausalLM, AutoTokenizer"
   ]
  },
  {
   "cell_type": "code",
   "execution_count": null,
   "id": "9c3f0c66-4fe0-46ec-bdae-f9a8149c8237",
   "metadata": {},
   "outputs": [],
   "source": [
    "# Specify the device\n",
    "device = torch.device(\"cpu\")\n",
    "\n",
    "# model_id = \"mistralai/Mixtral-8x7B-Instruct-v0.1\"\n",
    "model_id = \"abacusai/Smaug-34B-v0.1\"\n",
    "tokenizer = AutoTokenizer.from_pretrained(model_id, device_map=\"auto\")\n",
    "\n",
    "model = AutoModelForCausalLM.from_pretrained(model_id, device_map=\"auto\")\n",
    "# model.to(device)  # Move the model to the specified device"
   ]
  },
  {
   "cell_type": "code",
   "execution_count": null,
   "id": "ea025e53-870c-4ad3-b6e6-bdce00f27501",
   "metadata": {},
   "outputs": [],
   "source": [
    "text = \"Hello my name is\"\n",
    "inputs = tokenizer(text, return_tensors=\"pt\")\n",
    "inputs = {name: tensor.to(device) for name, tensor in inputs.items()}  # Move the inputs to the specified device\n",
    "\n",
    "outputs = model.generate(**inputs, max_new_tokens=20)\n",
    "print(tokenizer.decode(outputs[0], skip_special_tokens=True))"
   ]
  }
 ],
 "metadata": {
  "kernelspec": {
   "display_name": "Python 3 (ipykernel)",
   "language": "python",
   "name": "python3"
  },
  "language_info": {
   "codemirror_mode": {
    "name": "ipython",
    "version": 3
   },
   "file_extension": ".py",
   "mimetype": "text/x-python",
   "name": "python",
   "nbconvert_exporter": "python",
   "pygments_lexer": "ipython3",
   "version": "3.10.10"
  }
 },
 "nbformat": 4,
 "nbformat_minor": 5
}
