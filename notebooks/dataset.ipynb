{
 "cells": [
  {
   "cell_type": "code",
   "execution_count": 5,
   "id": "917032e2-1d2b-461b-92fb-2808cdeba85a",
   "metadata": {},
   "outputs": [],
   "source": [
    "from datasets import load_dataset\n",
    "from transformers import pipeline"
   ]
  },
  {
   "cell_type": "markdown",
   "id": "4e3bda51-207d-4922-ac63-5ec1b6578f9a",
   "metadata": {},
   "source": [
    "## Load the pubmed summarization dataset"
   ]
  },
  {
   "cell_type": "code",
   "execution_count": 2,
   "id": "db7f8b39-60f4-4603-8c21-85b8ee1c315b",
   "metadata": {},
   "outputs": [
    {
     "name": "stderr",
     "output_type": "stream",
     "text": [
      "Downloading builder script: 100%|██████████████████████████████████████████████████████████| 5.13k/5.13k [00:00<00:00, 8.71MB/s]\n",
      "Downloading readme: 100%|██████████████████████████████████████████████████████████████████| 2.66k/2.66k [00:00<00:00, 2.91MB/s]\n",
      "Downloading data: 100%|██████████████████████████████████████████████████████████████████████| 779M/779M [00:11<00:00, 67.6MB/s]\n",
      "Downloading data: 100%|████████████████████████████████████████████████████████████████████| 43.7M/43.7M [00:00<00:00, 58.5MB/s]\n",
      "Downloading data: 100%|████████████████████████████████████████████████████████████████████| 43.8M/43.8M [00:00<00:00, 57.1MB/s]\n",
      "Generating train split: 119924 examples [00:17, 7015.80 examples/s]\n",
      "Generating validation split: 6633 examples [00:00, 6944.02 examples/s]\n",
      "Generating test split: 6658 examples [00:00, 7258.71 examples/s]\n"
     ]
    }
   ],
   "source": [
    "dataset = load_dataset(\"ccdv/pubmed-summarization\")"
   ]
  },
  {
   "cell_type": "code",
   "execution_count": 3,
   "id": "cd65e864-5daa-4d74-b90a-b9c1c55151ea",
   "metadata": {},
   "outputs": [
    {
     "name": "stdout",
     "output_type": "stream",
     "text": [
      "Features: ['article', 'abstract']\n"
     ]
    }
   ],
   "source": [
    "print(f\"Features: {dataset['train'].column_names}\")"
   ]
  },
  {
   "cell_type": "code",
   "execution_count": 4,
   "id": "b2a9ec6f-abd4-4221-aa18-7ecf2d581791",
   "metadata": {},
   "outputs": [
    {
     "name": "stdout",
     "output_type": "stream",
     "text": [
      "\n",
      "Article (excerpt of 500 characters, total length: 18281):\n",
      "\n",
      "it occurs in more than 50% of patients and may reach 90% in certain types of cancers , especially in patients undergoing chemotherapy and/or radiation therapy.1 anemia is defined as an inadequate circulating level of hemoglobin ( hb ) ( hb < 12 g / dl ) and may arise as a result of the underlying disease , bleeding , poor nutrition , chemotherapy , or radiation therapy . \n",
      " preliminary studies suggest that survival and loco - regional control after radiation therapy , especially in head and neck \n",
      "\n",
      "Summary (length: 2010):\n",
      "backgroundanemia in patients with cancer who are undergoing active therapy is commonly encountered and may worsen quality of life in these patients . the effect of blood transfusion is often temporary and may be associated with serious adverse events . \n",
      " erythropoiesis - stimulating agents are not effective in 30%50% of patients and may have a negative effect on overall survival.aimsto assess the efficacy and feasibility of intravenous iron therapy in patients with cancer who have non - iron - deficiency anemia and who are undergoing treatment with chemotherapy without the use of erythropoiesis - stimulating agents.methodsadult patients with solid cancers and non - iron - deficiency anemia were included . \n",
      " ferric sucrose at a dose of 200 mg was given in short intravenous infusions weekly for a total of 12 weeks . \n",
      " hemoglobin level was measured at baseline , every 3 weeks , and 2 weeks after the last iron infusion ( week 14 ) . \n",
      " adverse events related to intravenous iron were prospectively reported.resultsof 25 patients included , 19 ( 76.0% ) completed at least three iron infusions and 14 ( 56.0% ) finished the planned 12 weeks of therapy . \n",
      " the mean hemoglobin level of the 25 patients at baseline was 9.6 g / dl ( median , 9.9 g / dl ; range , 6.9 g / dl 10.9 g / dl ) . the mean change in hemoglobin level for the 15 patients who completed at least 9 treatments was 1.7 g / dl ( median , 1.1 g / dl ; range , 1.9 g / dl to 3.2 g / dl ) ; it reached 2.1 g / dl ( median , 1.3 g / dl ; range , 0.2 g / dl to 4.6 g / dl ; p = 0.0007 ) for the 14 patients who completed all 12 weekly treatments . \n",
      " five ( 20.0% ) patients were transfused and considered as treatment failures . \n",
      " no treatment - related adverse events were reported.conclusionintravenous iron treatment alone is safe and may reduce blood transfusion requirements and improve hemoglobin level in patients with cancer who are undergoing anticancer therapy . \n",
      " further randomized studies are needed to confirm these findings .\n"
     ]
    }
   ],
   "source": [
    "sample = dataset['train'][1]\n",
    "print(f\"\"\"\n",
    "Article (excerpt of 500 characters, total length: {len(sample[\"article\"])}):\n",
    "\"\"\")\n",
    "print(sample['article'][:500])\n",
    "print(f'\\nSummary (length: {len(sample[\"abstract\"])}):')\n",
    "print(sample[\"abstract\"])"
   ]
  },
  {
   "cell_type": "markdown",
   "id": "f4b41c01-e05e-4fad-9ba0-4b8bce79e852",
   "metadata": {},
   "source": [
    "## Evaluate pretrained models"
   ]
  },
  {
   "cell_type": "code",
   "execution_count": null,
   "id": "8a7c863c-5cde-4634-80fa-fd2604b90b13",
   "metadata": {},
   "outputs": [],
   "source": [
    "summarizer = pipeline(\"summarization\", model=\"Falconsai/medical_summarization\")"
   ]
  }
 ],
 "metadata": {
  "kernelspec": {
   "display_name": "Python 3 (ipykernel)",
   "language": "python",
   "name": "python3"
  },
  "language_info": {
   "codemirror_mode": {
    "name": "ipython",
    "version": 3
   },
   "file_extension": ".py",
   "mimetype": "text/x-python",
   "name": "python",
   "nbconvert_exporter": "python",
   "pygments_lexer": "ipython3",
   "version": "3.8.10"
  }
 },
 "nbformat": 4,
 "nbformat_minor": 5
}
