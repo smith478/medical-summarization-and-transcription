{
 "cells": [
  {
   "cell_type": "code",
   "execution_count": 1,
   "id": "917032e2-1d2b-461b-92fb-2808cdeba85a",
   "metadata": {},
   "outputs": [
    {
     "name": "stderr",
     "output_type": "stream",
     "text": [
      "/usr/local/lib/python3.8/dist-packages/tqdm/auto.py:22: TqdmWarning: IProgress not found. Please update jupyter and ipywidgets. See https://ipywidgets.readthedocs.io/en/stable/user_install.html\n",
      "  from .autonotebook import tqdm as notebook_tqdm\n"
     ]
    }
   ],
   "source": [
    "from datasets import load_dataset\n",
    "from datasets import load_metric\n",
    "from transformers import pipeline\n",
    "import nltk\n",
    "from nltk.tokenize import sent_tokenize\n",
    "import pandas as pd"
   ]
  },
  {
   "cell_type": "code",
   "execution_count": 2,
   "id": "56e86772-8786-411c-ba38-abf4e16e4348",
   "metadata": {},
   "outputs": [
    {
     "name": "stderr",
     "output_type": "stream",
     "text": [
      "[nltk_data] Downloading package punkt to /root/nltk_data...\n",
      "[nltk_data]   Unzipping tokenizers/punkt.zip.\n"
     ]
    },
    {
     "data": {
      "text/plain": [
       "True"
      ]
     },
     "execution_count": 2,
     "metadata": {},
     "output_type": "execute_result"
    }
   ],
   "source": [
    "nltk.download('punkt')"
   ]
  },
  {
   "cell_type": "markdown",
   "id": "4e3bda51-207d-4922-ac63-5ec1b6578f9a",
   "metadata": {},
   "source": [
    "## Load the pubmed summarization dataset"
   ]
  },
  {
   "cell_type": "code",
   "execution_count": 3,
   "id": "db7f8b39-60f4-4603-8c21-85b8ee1c315b",
   "metadata": {},
   "outputs": [
    {
     "name": "stderr",
     "output_type": "stream",
     "text": [
      "Downloading builder script: 100%|██████████████████████████████████████████████████████████████| 5.13k/5.13k [00:00<00:00, 1.93MB/s]\n",
      "Downloading readme: 100%|███████████████████████████████████████████████████████████████████████| 2.66k/2.66k [00:00<00:00, 787kB/s]\n",
      "Downloading data: 100%|██████████████████████████████████████████████████████████████████████████| 779M/779M [00:11<00:00, 67.6MB/s]\n",
      "Downloading data: 100%|████████████████████████████████████████████████████████████████████████| 43.7M/43.7M [00:00<00:00, 60.2MB/s]\n",
      "Downloading data: 100%|████████████████████████████████████████████████████████████████████████| 43.8M/43.8M [00:00<00:00, 60.0MB/s]\n",
      "Generating train split: 119924 examples [00:15, 7839.43 examples/s]\n",
      "Generating validation split: 6633 examples [00:00, 7462.56 examples/s]\n",
      "Generating test split: 6658 examples [00:00, 7775.55 examples/s]\n"
     ]
    }
   ],
   "source": [
    "dataset = load_dataset(\"ccdv/pubmed-summarization\")"
   ]
  },
  {
   "cell_type": "code",
   "execution_count": 4,
   "id": "cd65e864-5daa-4d74-b90a-b9c1c55151ea",
   "metadata": {},
   "outputs": [
    {
     "name": "stdout",
     "output_type": "stream",
     "text": [
      "Features: ['article', 'abstract']\n"
     ]
    }
   ],
   "source": [
    "print(f\"Features: {dataset['train'].column_names}\")"
   ]
  },
  {
   "cell_type": "code",
   "execution_count": 5,
   "id": "b2a9ec6f-abd4-4221-aa18-7ecf2d581791",
   "metadata": {},
   "outputs": [
    {
     "name": "stdout",
     "output_type": "stream",
     "text": [
      "\n",
      "Article (excerpt of 500 characters, total length: 18281):\n",
      "\n",
      "it occurs in more than 50% of patients and may reach 90% in certain types of cancers , especially in patients undergoing chemotherapy and/or radiation therapy.1 anemia is defined as an inadequate circulating level of hemoglobin ( hb ) ( hb < 12 g / dl ) and may arise as a result of the underlying disease , bleeding , poor nutrition , chemotherapy , or radiation therapy . \n",
      " preliminary studies suggest that survival and loco - regional control after radiation therapy , especially in head and neck \n",
      "\n",
      "Summary (length: 2010):\n",
      "backgroundanemia in patients with cancer who are undergoing active therapy is commonly encountered and may worsen quality of life in these patients . the effect of blood transfusion is often temporary and may be associated with serious adverse events . \n",
      " erythropoiesis - stimulating agents are not effective in 30%50% of patients and may have a negative effect on overall survival.aimsto assess the efficacy and feasibility of intravenous iron therapy in patients with cancer who have non - iron - deficiency anemia and who are undergoing treatment with chemotherapy without the use of erythropoiesis - stimulating agents.methodsadult patients with solid cancers and non - iron - deficiency anemia were included . \n",
      " ferric sucrose at a dose of 200 mg was given in short intravenous infusions weekly for a total of 12 weeks . \n",
      " hemoglobin level was measured at baseline , every 3 weeks , and 2 weeks after the last iron infusion ( week 14 ) . \n",
      " adverse events related to intravenous iron were prospectively reported.resultsof 25 patients included , 19 ( 76.0% ) completed at least three iron infusions and 14 ( 56.0% ) finished the planned 12 weeks of therapy . \n",
      " the mean hemoglobin level of the 25 patients at baseline was 9.6 g / dl ( median , 9.9 g / dl ; range , 6.9 g / dl 10.9 g / dl ) . the mean change in hemoglobin level for the 15 patients who completed at least 9 treatments was 1.7 g / dl ( median , 1.1 g / dl ; range , 1.9 g / dl to 3.2 g / dl ) ; it reached 2.1 g / dl ( median , 1.3 g / dl ; range , 0.2 g / dl to 4.6 g / dl ; p = 0.0007 ) for the 14 patients who completed all 12 weekly treatments . \n",
      " five ( 20.0% ) patients were transfused and considered as treatment failures . \n",
      " no treatment - related adverse events were reported.conclusionintravenous iron treatment alone is safe and may reduce blood transfusion requirements and improve hemoglobin level in patients with cancer who are undergoing anticancer therapy . \n",
      " further randomized studies are needed to confirm these findings .\n"
     ]
    }
   ],
   "source": [
    "sample = dataset['train'][1]\n",
    "print(f\"\"\"\n",
    "Article (excerpt of 500 characters, total length: {len(sample[\"article\"])}):\n",
    "\"\"\")\n",
    "print(sample['article'][:500])\n",
    "print(f'\\nSummary (length: {len(sample[\"abstract\"])}):')\n",
    "print(sample[\"abstract\"])"
   ]
  },
  {
   "cell_type": "markdown",
   "id": "ae422f36-c0f9-4a65-8b9f-bc4056bbd18b",
   "metadata": {},
   "source": [
    "## Load the pretrained models\n",
    "\n",
    "We could also load these models using `AutoModel` and `AutoTokenizer` to find the maximum input length. It would look something like:\n",
    "\n",
    "```python\n",
    "from transformers import AutoModel, AutoTokenizer\n",
    "\n",
    "# Load the model and tokenizer\n",
    "model_name = 'Falconsai/medical_summarization'\n",
    "model = AutoModel.from_pretrained(model_name)\n",
    "tokenizer = AutoTokenizer.from_pretrained(model_name)\n",
    "\n",
    "# Get the maximum input size\n",
    "max_input_size = model.config.max_position_embeddings\n",
    "print(f\"The maximum input size of the model is: {max_input_size}\")\n",
    "```"
   ]
  },
  {
   "cell_type": "code",
   "execution_count": 6,
   "id": "8a7c863c-5cde-4634-80fa-fd2604b90b13",
   "metadata": {},
   "outputs": [
    {
     "name": "stderr",
     "output_type": "stream",
     "text": [
      "config.json: 100%|█████████████████████████████████████████████████████████████████████████████| 1.50k/1.50k [00:00<00:00, 61.5kB/s]\n",
      "model.safetensors: 100%|█████████████████████████████████████████████████████████████████████████| 242M/242M [00:03<00:00, 62.4MB/s]\n",
      "generation_config.json: 100%|██████████████████████████████████████████████████████████████████████| 112/112 [00:00<00:00, 5.17kB/s]\n",
      "tokenizer_config.json: 100%|████████████████████████████████████████████████████████████████████| 2.37k/2.37k [00:00<00:00, 106kB/s]\n",
      "spiece.model: 100%|██████████████████████████████████████████████████████████████████████████████| 792k/792k [00:00<00:00, 39.8MB/s]\n",
      "tokenizer.json: 100%|██████████████████████████████████████████████████████████████████████████| 2.42M/2.42M [00:00<00:00, 16.7MB/s]\n",
      "special_tokens_map.json: 100%|█████████████████████████████████████████████████████████████████| 2.20k/2.20k [00:00<00:00, 1.06MB/s]\n"
     ]
    }
   ],
   "source": [
    "summarizer_falconsai = pipeline(\"summarization\", model=\"Falconsai/medical_summarization\")"
   ]
  },
  {
   "cell_type": "code",
   "execution_count": 7,
   "id": "d68830ba-6b53-4711-bc27-6a6f12864f61",
   "metadata": {},
   "outputs": [
    {
     "name": "stderr",
     "output_type": "stream",
     "text": [
      "config.json: 100%|██████████████████████████████████████████████████████████████████████████████████| 853/853 [00:00<00:00, 397kB/s]\n",
      "model.safetensors: 100%|███████████████████████████████████████████████████████████████████████| 3.13G/3.13G [00:46<00:00, 66.8MB/s]\n",
      "tokenizer_config.json: 100%|████████████████████████████████████████████████████████████████████| 2.34k/2.34k [00:00<00:00, 119kB/s]\n",
      "tokenizer.json: 100%|██████████████████████████████████████████████████████████████████████████| 2.42M/2.42M [00:00<00:00, 2.64MB/s]\n",
      "special_tokens_map.json: 100%|██████████████████████████████████████████████████████████████████| 2.20k/2.20k [00:00<00:00, 884kB/s]\n"
     ]
    }
   ],
   "source": [
    "summarizer_longt5 = pipeline(\"summarization\", model=\"Stancld/longt5-tglobal-large-16384-pubmed-3k_steps\")"
   ]
  },
  {
   "cell_type": "markdown",
   "id": "8812f694-273f-4a71-be5e-e1c1b57c4522",
   "metadata": {},
   "source": [
    "## Sample text comparison\n",
    "\n",
    "Here we'll take the first 3000 characters in order to have the same input for each of the models"
   ]
  },
  {
   "cell_type": "code",
   "execution_count": 8,
   "id": "615b7d49-93f3-4f1a-af5b-87334097d636",
   "metadata": {},
   "outputs": [],
   "source": [
    "sample_text = sample['article'][:5000]\n",
    "summaries = {}"
   ]
  },
  {
   "cell_type": "code",
   "execution_count": 9,
   "id": "a59e7564-239b-441c-b3e4-720d90cf12e6",
   "metadata": {},
   "outputs": [
    {
     "data": {
      "text/plain": [
       "'it occurs in more than 50% of patients and may reach 90% in certain types of cancers , especially in patients undergoing chemotherapy and/or radiation therapy.1 anemia is defined as an inadequate circulating level of hemoglobin ( hb ) ( hb < 12 g / dl ) and may arise as a result of the underlying disease , bleeding , poor nutrition , chemotherapy , or radiation therapy . \\n preliminary studies suggest that survival and loco - regional control after radiation therapy , especially in head and neck cancers , may be compromised by anemia.24 anemia often worsens symptoms such as fatigue , weakness , and dyspnea , and thus may have a negative effect on quality of life ( qol ) and performance status in patients with cancer . \\n thus , to improve physical functioning , qol , and prognosis in patients with cancer , it would be reasonable to take a proactive approach in identifying populations who need treatment for cancer - associated anemia ( caa ) and provide timely management . \\n blood transfusion is an effective way to replace depleted hb within a short period , but the effect is , unfortunately , temporary and can cause serious adverse risks and increased mortality . in randomized clinical trials in patients with caa \\n , erythropoiesis - stimulating agents ( esas ) produced significant increases in hb level , decreased transfusion requirements , and improved qol.57 however , 30%50% of patients do not respond to such agents . \\n in addition , the use of esas often causes concern about severe adverse reactions.6,8 in several studies , esas were found to shorten overall survival time , or time to tumor progression in patients whose hb level reached more than 12 g / dl . \\n these studies included patients with different primary cancers , such as breast , lung , head and neck , cervix , and lymphomas.911 the lack of response to erythropoietin stimulation in patients with cancer is partly attributed to the functional iron deficiency state , in which the high rate of erythropoiesis exceeds the delivery of usable iron , despite adequate iron stores.12 absolute iron deficiency , in contrast , occurs when iron delivery is impaired because iron stores are depleted ( serum ferritin , < 100 ng / ml ; transferring saturation , < 20%).13 hepcidin , a peptide hormone produced by the liver , is up - regulated in chronic inflammatory states including cancer . \\n hepcidin inhibits iron transport across cell membranes , thus decreasing the accessibility of stored iron and gastrointestinal absorption of dietary iron , leading to an increased frequency of iron - restricted erythropoiesis.1416 many randomized trials examined the role of intravenous ( iv ) iron in addition to esas in the treatment of anemia in patients with cancer . \\n many of these studies showed improvement in esa response , time to maximal response , reduction in esa dose , and improvement in qol parameters ( when measured ) in favor of the combination over esas alone . \\n the observed benefit was independent of baseline iron parameters.1721 one study found a 36% reduction in the number of patients transfused.21 this pilot study assessed the efficacy and feasibility of iv iron monotherapy in patients with cancer who have anemia and who are undergoing treatment with chemotherapy and/or radiation therapy without the use of esas . \\n patients received the study treatment for 12 weeks followed by a 4-week follow - up period . \\n eligible patients were at least 18 years old , about to start a cycle of chemotherapy and/or radiation therapy within 1 week of inclusion , and had a nonmyeloid malignancy , hb levels of 11.0 g / dl or less , a life expectancy of more than 24 weeks , and an eastern cooperative oncology group performance status of 02 . \\n patients were also required to have a serum ferritin level of 100 ng / ml or higher or transferrin saturation ( tsat ) levels of 15% or higher and to have received no esas or iv iron therapy within 30 days and no oral iron therapy ( 27 mg / day or more ) within 7 days before enrollment . \\n patients were excluded for leukoerythroblastic features on blood film , hemolysis , gastrointestinal bleeding , folate or vitamin b12 deficiency , elevated serum ferritin ( 900 ng / ml ) or transferrin saturation ( tsat ) ( 35% ) levels , pregnancy or lactation , liver dysfunction ( grade 2 or higher based on national cancer institute common toxicity criteria ) , renal dysfunction ( serum creatinine levels 2.0 mg / dl ) , active infection requiring systemic antibiotics , personal or family history of hemochromatosis , comorbidities precluding study participation , hypersensitivity to iv iron , red blood cell transfusion within the last 2 weeks , or any investigational agent within 30 days before enrollment . \\n patients were not allowed to take any vitamin , mineral , or herbal supplements containing 27 mg or more of iron per day or 100 mg vitamin c per day during the study or follow - up period . \\n blood transfusions were permitted at the primary physi'"
      ]
     },
     "execution_count": 9,
     "metadata": {},
     "output_type": "execute_result"
    }
   ],
   "source": [
    "sample_text"
   ]
  },
  {
   "cell_type": "markdown",
   "id": "f4b41c01-e05e-4fad-9ba0-4b8bce79e852",
   "metadata": {},
   "source": [
    "## Evaluate pretrained models\n",
    "\n",
    "As a baseline we will use the first three sentences as the summary"
   ]
  },
  {
   "cell_type": "code",
   "execution_count": 10,
   "id": "1673de4a-489e-4d86-8255-388596ace7b4",
   "metadata": {},
   "outputs": [],
   "source": [
    "def three_sentence_summary(text):\n",
    "    return \"\\n\".join(sent_tokenize(text)[:3])"
   ]
  },
  {
   "cell_type": "markdown",
   "id": "43776f97-8fba-4e86-8cb2-ba27fbee7357",
   "metadata": {},
   "source": [
    "#### Baseline"
   ]
  },
  {
   "cell_type": "code",
   "execution_count": 11,
   "id": "1f784993-2b79-4bc0-ba1d-7820ebb611ab",
   "metadata": {},
   "outputs": [],
   "source": [
    "summaries[\"baseline\"] = three_sentence_summary(sample_text)"
   ]
  },
  {
   "cell_type": "code",
   "execution_count": 12,
   "id": "6685e7cc-51b6-4d0c-8c13-131353e758c4",
   "metadata": {},
   "outputs": [
    {
     "data": {
      "text/plain": [
       "'it occurs in more than 50% of patients and may reach 90% in certain types of cancers , especially in patients undergoing chemotherapy and/or radiation therapy.1 anemia is defined as an inadequate circulating level of hemoglobin ( hb ) ( hb < 12 g / dl ) and may arise as a result of the underlying disease , bleeding , poor nutrition , chemotherapy , or radiation therapy .\\npreliminary studies suggest that survival and loco - regional control after radiation therapy , especially in head and neck cancers , may be compromised by anemia.24 anemia often worsens symptoms such as fatigue , weakness , and dyspnea , and thus may have a negative effect on quality of life ( qol ) and performance status in patients with cancer .\\nthus , to improve physical functioning , qol , and prognosis in patients with cancer , it would be reasonable to take a proactive approach in identifying populations who need treatment for cancer - associated anemia ( caa ) and provide timely management .'"
      ]
     },
     "execution_count": 12,
     "metadata": {},
     "output_type": "execute_result"
    }
   ],
   "source": [
    "summaries[\"baseline\"]"
   ]
  },
  {
   "cell_type": "markdown",
   "id": "dbcb06bf-5b4c-4788-8628-0ba971ab5274",
   "metadata": {},
   "source": [
    "#### Falconsai"
   ]
  },
  {
   "cell_type": "code",
   "execution_count": 13,
   "id": "878424d5-3fab-44eb-9595-023eecf77078",
   "metadata": {},
   "outputs": [
    {
     "name": "stderr",
     "output_type": "stream",
     "text": [
      "Token indices sequence length is longer than the specified maximum sequence length for this model (1282 > 512). Running this sequence through the model will result in indexing errors\n"
     ]
    }
   ],
   "source": [
    "output = summarizer_falconsai(sample_text)"
   ]
  },
  {
   "cell_type": "code",
   "execution_count": 14,
   "id": "0a4789fe-ab35-44ad-903c-904d27c2e9f8",
   "metadata": {},
   "outputs": [
    {
     "data": {
      "text/plain": [
       "[{'summary_text': 'objectivethe aim of this study was to evaluate the efficacy and feasibility of intravenous ( iv ) iron monotherapy in patients with cancer who have anemia and who are undergoing treatment with chemotherapy and/or radiation therapy without the use of erythropoiesis - stimulating agents ( esas ) alone.materials and methodsthis pilot study was conducted to assess the effect of ivenous iron on quality of life ( qol ) , time to maximal response , and improvement in qiol parameters ( when measured ) in favor of the combination.resultsthe mean age of patients with caa were 18 years old , about to start a cycle of chemotherapy and radiation therapy within 1 week of inclusion . patients were treated for 12 weeks , followed by a 4-week follow - up period . the mean age ( p  '}]"
      ]
     },
     "execution_count": 14,
     "metadata": {},
     "output_type": "execute_result"
    }
   ],
   "source": [
    "output"
   ]
  },
  {
   "cell_type": "code",
   "execution_count": 15,
   "id": "657a1bb1-0f16-485a-b7d8-ffbdc57c2a18",
   "metadata": {},
   "outputs": [],
   "source": [
    "summaries[\"falconsai\"] = \"\\n\".join(sent_tokenize(output[0][\"summary_text\"]))"
   ]
  },
  {
   "cell_type": "markdown",
   "id": "6c8f19a9-208a-439c-b337-c46199121d92",
   "metadata": {},
   "source": [
    "#### long t5"
   ]
  },
  {
   "cell_type": "code",
   "execution_count": 16,
   "id": "f367ab04-c219-49f7-ba96-e37ef3a4167f",
   "metadata": {},
   "outputs": [
    {
     "name": "stderr",
     "output_type": "stream",
     "text": [
      "/usr/local/lib/python3.8/dist-packages/transformers/modeling_utils.py:921: FutureWarning: The `device` argument is deprecated and will be removed in v5 of Transformers.\n",
      "  warnings.warn(\n"
     ]
    }
   ],
   "source": [
    "output = summarizer_longt5(sample_text, max_length=200)"
   ]
  },
  {
   "cell_type": "code",
   "execution_count": 17,
   "id": "56dba02c-883b-4bf2-a80e-8a157eca58df",
   "metadata": {},
   "outputs": [
    {
     "data": {
      "text/plain": [
       "[{'summary_text': 'anemia is defined as an inadequate circulating level of hemoglobin ( hb ) ( hb  12 g / dl ) and may arise as a result of the underlying disease , bleeding , poor nutrition , chemotherapy , or radiation therapy . in randomized clinical trials in patients with cancer , erythropoiesis - stimulating agents produced significant increases in hb level , decreased transfusion requirements , and improved quality of life ( qol ) . however , 30%50% of patients do not respond to such agents . in addition , the use of erythropoietin stimulation in patients with cancer is partly attributed to the functional iron deficiency state , where the high rate of erythropoiesis exceeds the delivery of usable iron despite adequate iron stores . in this pilot'}]"
      ]
     },
     "execution_count": 17,
     "metadata": {},
     "output_type": "execute_result"
    }
   ],
   "source": [
    "output"
   ]
  },
  {
   "cell_type": "code",
   "execution_count": 18,
   "id": "a146969d-06b0-47be-981d-0aaf8e38fe90",
   "metadata": {},
   "outputs": [],
   "source": [
    "summaries[\"longt5\"] = \"\\n\".join(sent_tokenize(output[0][\"summary_text\"]))"
   ]
  },
  {
   "cell_type": "markdown",
   "id": "ec21a7f2-236b-4936-8824-96021725b4e2",
   "metadata": {},
   "source": [
    "## Comparing different summaries"
   ]
  },
  {
   "cell_type": "code",
   "execution_count": 19,
   "id": "64535522-689a-45cc-88e9-1c064a1e0471",
   "metadata": {},
   "outputs": [
    {
     "name": "stdout",
     "output_type": "stream",
     "text": [
      "GROUND TRUTH\n",
      "backgroundanemia in patients with cancer who are undergoing active therapy is commonly encountered and may worsen quality of life in these patients . the effect of blood transfusion is often temporary and may be associated with serious adverse events . \n",
      " erythropoiesis - stimulating agents are not effective in 30%50% of patients and may have a negative effect on overall survival.aimsto assess the efficacy and feasibility of intravenous iron therapy in patients with cancer who have non - iron - deficiency anemia and who are undergoing treatment with chemotherapy without the use of erythropoiesis - stimulating agents.methodsadult patients with solid cancers and non - iron - deficiency anemia were included . \n",
      " ferric sucrose at a dose of 200 mg was given in short intravenous infusions weekly for a total of 12 weeks . \n",
      " hemoglobin level was measured at baseline , every 3 weeks , and 2 weeks after the last iron infusion ( week 14 ) . \n",
      " adverse events related to intravenous iron were prospectively reported.resultsof 25 patients included , 19 ( 76.0% ) completed at least three iron infusions and 14 ( 56.0% ) finished the planned 12 weeks of therapy . \n",
      " the mean hemoglobin level of the 25 patients at baseline was 9.6 g / dl ( median , 9.9 g / dl ; range , 6.9 g / dl 10.9 g / dl ) . the mean change in hemoglobin level for the 15 patients who completed at least 9 treatments was 1.7 g / dl ( median , 1.1 g / dl ; range , 1.9 g / dl to 3.2 g / dl ) ; it reached 2.1 g / dl ( median , 1.3 g / dl ; range , 0.2 g / dl to 4.6 g / dl ; p = 0.0007 ) for the 14 patients who completed all 12 weekly treatments . \n",
      " five ( 20.0% ) patients were transfused and considered as treatment failures . \n",
      " no treatment - related adverse events were reported.conclusionintravenous iron treatment alone is safe and may reduce blood transfusion requirements and improve hemoglobin level in patients with cancer who are undergoing anticancer therapy . \n",
      " further randomized studies are needed to confirm these findings .\n",
      "\n",
      "BASELINE\n",
      "it occurs in more than 50% of patients and may reach 90% in certain types of cancers , especially in patients undergoing chemotherapy and/or radiation therapy.1 anemia is defined as an inadequate circulating level of hemoglobin ( hb ) ( hb < 12 g / dl ) and may arise as a result of the underlying disease , bleeding , poor nutrition , chemotherapy , or radiation therapy .\n",
      "preliminary studies suggest that survival and loco - regional control after radiation therapy , especially in head and neck cancers , may be compromised by anemia.24 anemia often worsens symptoms such as fatigue , weakness , and dyspnea , and thus may have a negative effect on quality of life ( qol ) and performance status in patients with cancer .\n",
      "thus , to improve physical functioning , qol , and prognosis in patients with cancer , it would be reasonable to take a proactive approach in identifying populations who need treatment for cancer - associated anemia ( caa ) and provide timely management .\n",
      "\n",
      "FALCONSAI\n",
      "objectivethe aim of this study was to evaluate the efficacy and feasibility of intravenous ( iv ) iron monotherapy in patients with cancer who have anemia and who are undergoing treatment with chemotherapy and/or radiation therapy without the use of erythropoiesis - stimulating agents ( esas ) alone.materials and methodsthis pilot study was conducted to assess the effect of ivenous iron on quality of life ( qol ) , time to maximal response , and improvement in qiol parameters ( when measured ) in favor of the combination.resultsthe mean age of patients with caa were 18 years old , about to start a cycle of chemotherapy and radiation therapy within 1 week of inclusion .\n",
      "patients were treated for 12 weeks , followed by a 4-week follow - up period .\n",
      "the mean age ( p\n",
      "\n",
      "LONGT5\n",
      "anemia is defined as an inadequate circulating level of hemoglobin ( hb ) ( hb  12 g / dl ) and may arise as a result of the underlying disease , bleeding , poor nutrition , chemotherapy , or radiation therapy .\n",
      "in randomized clinical trials in patients with cancer , erythropoiesis - stimulating agents produced significant increases in hb level , decreased transfusion requirements , and improved quality of life ( qol ) .\n",
      "however , 30%50% of patients do not respond to such agents .\n",
      "in addition , the use of erythropoietin stimulation in patients with cancer is partly attributed to the functional iron deficiency state , where the high rate of erythropoiesis exceeds the delivery of usable iron despite adequate iron stores .\n",
      "in this pilot\n",
      "\n"
     ]
    }
   ],
   "source": [
    "print(\"GROUND TRUTH\")\n",
    "print(sample['abstract'])\n",
    "print(\"\")\n",
    "\n",
    "for model_name in summaries:\n",
    "    print(model_name.upper())\n",
    "    print(summaries[model_name])\n",
    "    print(\"\")"
   ]
  },
  {
   "cell_type": "markdown",
   "id": "68633112-5c7a-4cbd-a985-c981826155b5",
   "metadata": {},
   "source": [
    "## Evaluate quality of summaries\n",
    "\n",
    "We will use the ROUGE metric to compare the quality of different summaries"
   ]
  },
  {
   "cell_type": "code",
   "execution_count": 20,
   "id": "291e1113-3d45-4fbe-91d6-21d6218c8826",
   "metadata": {},
   "outputs": [
    {
     "name": "stderr",
     "output_type": "stream",
     "text": [
      "/tmp/ipykernel_32/3047241671.py:1: FutureWarning: load_metric is deprecated and will be removed in the next major version of datasets. Use 'evaluate.load' instead, from the new library 🤗 Evaluate: https://huggingface.co/docs/evaluate\n",
      "  rouge_metric = load_metric(\"rouge\")\n",
      "Downloading builder script: 5.65kB [00:00, 1.20MB/s]                                                                                \n"
     ]
    }
   ],
   "source": [
    "rouge_metric = load_metric(\"rouge\")"
   ]
  },
  {
   "cell_type": "code",
   "execution_count": 21,
   "id": "fde492ea-f17d-4740-bde2-660f757f46a8",
   "metadata": {},
   "outputs": [
    {
     "data": {
      "text/html": [
       "<div>\n",
       "<style scoped>\n",
       "    .dataframe tbody tr th:only-of-type {\n",
       "        vertical-align: middle;\n",
       "    }\n",
       "\n",
       "    .dataframe tbody tr th {\n",
       "        vertical-align: top;\n",
       "    }\n",
       "\n",
       "    .dataframe thead th {\n",
       "        text-align: right;\n",
       "    }\n",
       "</style>\n",
       "<table border=\"1\" class=\"dataframe\">\n",
       "  <thead>\n",
       "    <tr style=\"text-align: right;\">\n",
       "      <th></th>\n",
       "      <th>rouge1</th>\n",
       "      <th>rouge2</th>\n",
       "      <th>rougeL</th>\n",
       "      <th>rougeLsum</th>\n",
       "    </tr>\n",
       "  </thead>\n",
       "  <tbody>\n",
       "    <tr>\n",
       "      <th>baseline</th>\n",
       "      <td>0.315126</td>\n",
       "      <td>0.097046</td>\n",
       "      <td>0.138655</td>\n",
       "      <td>0.268908</td>\n",
       "    </tr>\n",
       "    <tr>\n",
       "      <th>falconsai</th>\n",
       "      <td>0.337029</td>\n",
       "      <td>0.151448</td>\n",
       "      <td>0.195122</td>\n",
       "      <td>0.310421</td>\n",
       "    </tr>\n",
       "    <tr>\n",
       "      <th>longt5</th>\n",
       "      <td>0.279817</td>\n",
       "      <td>0.110599</td>\n",
       "      <td>0.137615</td>\n",
       "      <td>0.238532</td>\n",
       "    </tr>\n",
       "  </tbody>\n",
       "</table>\n",
       "</div>"
      ],
      "text/plain": [
       "             rouge1    rouge2    rougeL  rougeLsum\n",
       "baseline   0.315126  0.097046  0.138655   0.268908\n",
       "falconsai  0.337029  0.151448  0.195122   0.310421\n",
       "longt5     0.279817  0.110599  0.137615   0.238532"
      ]
     },
     "execution_count": 21,
     "metadata": {},
     "output_type": "execute_result"
    }
   ],
   "source": [
    "reference = sample['abstract']\n",
    "records = []\n",
    "rouge_names = [\"rouge1\", \"rouge2\", \"rougeL\", \"rougeLsum\"]\n",
    "\n",
    "for model_name in summaries:\n",
    "    rouge_metric.add(prediction=summaries[model_name], reference=reference)\n",
    "    score = rouge_metric.compute()\n",
    "    rouge_dict = dict((rn, score[rn].mid.fmeasure) for rn in rouge_names)\n",
    "    records.append(rouge_dict)\n",
    "pd.DataFrame.from_records(records, index=summaries.keys())"
   ]
  },
  {
   "cell_type": "markdown",
   "id": "922a6282-34d7-4b02-9e59-14c2dce345ca",
   "metadata": {},
   "source": [
    "## Evaluating the models on the validation dataset\n",
    "\n",
    "To keep the evaluation time reasonable we will choose a subset of 200 examples from the test dataset to compare the models"
   ]
  },
  {
   "cell_type": "code",
   "execution_count": 22,
   "id": "706c8f7c-30da-4e5e-83bc-86879171c518",
   "metadata": {},
   "outputs": [
    {
     "data": {
      "text/plain": [
       "DatasetDict({\n",
       "    train: Dataset({\n",
       "        features: ['article', 'abstract'],\n",
       "        num_rows: 119924\n",
       "    })\n",
       "    validation: Dataset({\n",
       "        features: ['article', 'abstract'],\n",
       "        num_rows: 6633\n",
       "    })\n",
       "    test: Dataset({\n",
       "        features: ['article', 'abstract'],\n",
       "        num_rows: 6658\n",
       "    })\n",
       "})"
      ]
     },
     "execution_count": 22,
     "metadata": {},
     "output_type": "execute_result"
    }
   ],
   "source": [
    "dataset"
   ]
  },
  {
   "cell_type": "code",
   "execution_count": 32,
   "id": "eef47fe9-dcf4-4af0-b85c-afebad34f3da",
   "metadata": {},
   "outputs": [],
   "source": [
    "test_sampled = dataset[\"test\"].shuffle(seed=42).select(range(1600))"
   ]
  },
  {
   "cell_type": "markdown",
   "id": "e76c030b-6488-40b2-9937-7e883a65474b",
   "metadata": {},
   "source": [
    "#### Baseline"
   ]
  },
  {
   "cell_type": "code",
   "execution_count": 26,
   "id": "57411b7a-1050-4798-ba22-ed874c3b417d",
   "metadata": {},
   "outputs": [],
   "source": [
    "def evaluate_summaries_baseline(dataset, metric,\n",
    "                               column_text='article',\n",
    "                               column_summary='abstract'):\n",
    "    summaries = [three_sentence_summary(text) for text in dataset[column_text]]\n",
    "    metric.add_batch(predictions=summaries,\n",
    "                     references=dataset[column_summary])\n",
    "    score = metric.compute()\n",
    "    return score"
   ]
  },
  {
   "cell_type": "code",
   "execution_count": 27,
   "id": "4109e512-39db-4ca4-a70b-74619f20d078",
   "metadata": {},
   "outputs": [
    {
     "data": {
      "text/html": [
       "<div>\n",
       "<style scoped>\n",
       "    .dataframe tbody tr th:only-of-type {\n",
       "        vertical-align: middle;\n",
       "    }\n",
       "\n",
       "    .dataframe tbody tr th {\n",
       "        vertical-align: top;\n",
       "    }\n",
       "\n",
       "    .dataframe thead th {\n",
       "        text-align: right;\n",
       "    }\n",
       "</style>\n",
       "<table border=\"1\" class=\"dataframe\">\n",
       "  <thead>\n",
       "    <tr style=\"text-align: right;\">\n",
       "      <th></th>\n",
       "      <th>rouge1</th>\n",
       "      <th>rouge2</th>\n",
       "      <th>rougeL</th>\n",
       "      <th>rougeLsum</th>\n",
       "    </tr>\n",
       "  </thead>\n",
       "  <tbody>\n",
       "    <tr>\n",
       "      <th>baseline</th>\n",
       "      <td>0.2712</td>\n",
       "      <td>0.092727</td>\n",
       "      <td>0.171766</td>\n",
       "      <td>0.245244</td>\n",
       "    </tr>\n",
       "  </tbody>\n",
       "</table>\n",
       "</div>"
      ],
      "text/plain": [
       "          rouge1    rouge2    rougeL  rougeLsum\n",
       "baseline  0.2712  0.092727  0.171766   0.245244"
      ]
     },
     "execution_count": 27,
     "metadata": {},
     "output_type": "execute_result"
    }
   ],
   "source": [
    "score = evaluate_summaries_baseline(test_sampled, rouge_metric)\n",
    "rouge_dict = dict((rn, score[rn].mid.fmeasure) for rn in rouge_names)\n",
    "pd.DataFrame.from_dict(rouge_dict, orient=\"index\", columns=[\"baseline\"]).T"
   ]
  },
  {
   "cell_type": "markdown",
   "id": "d38fa3d7-4b89-4f7c-93af-1d553db396cc",
   "metadata": {},
   "source": [
    "#### falconsai"
   ]
  },
  {
   "cell_type": "code",
   "execution_count": 28,
   "id": "8ded4361-5569-4960-a9ec-b38b6526b943",
   "metadata": {},
   "outputs": [],
   "source": [
    "import torch"
   ]
  },
  {
   "cell_type": "code",
   "execution_count": 29,
   "id": "e3f0ddb1-0717-4159-b97b-4a82290e875b",
   "metadata": {},
   "outputs": [],
   "source": [
    "device = \"cuda\" if torch.cuda.is_available() else \"cpu\""
   ]
  },
  {
   "cell_type": "code",
   "execution_count": 31,
   "id": "74abfd7a-9771-4a27-a888-1880a32a800f",
   "metadata": {},
   "outputs": [],
   "source": [
    "def chunks(list_of_elements, batch_size):\n",
    "    for i in range(0, len(list_of_elements), batch_size):\n",
    "        yield list_of_elements[i: i + batch_size]"
   ]
  },
  {
   "cell_type": "code",
   "execution_count": 42,
   "id": "5f34ef45-b7fe-43de-866e-2947d7bd473c",
   "metadata": {},
   "outputs": [],
   "source": [
    "def evaluate_summaries(dataset, metric, model, tokenizer,\n",
    "                      batch_size=16, device=device,\n",
    "                      column_text=\"article\", column_summary=\"abstract\"):\n",
    "    article_batches = list(chunks(dataset[column_text], batch_size))\n",
    "    target_batches = list(chunks(dataset[column_summary], batch_size))\n",
    "\n",
    "    for i, (article_batch, target_batch) in enumerate(zip(article_batches, target_batches)):\n",
    "        if i % 10 == 0:\n",
    "            print(f'Running batch {i + 1} of {len(article_batches)}')\n",
    "\n",
    "        inputs = tokenizer(article_batch, max_length=2048, truncation=True, padding=\"max_length\", return_tensors=\"pt\")\n",
    "        summaries = model.generate(input_ids=inputs[\"input_ids\"].to(device),\n",
    "                                   attention_mask=inputs[\"attention_mask\"].to(device),\n",
    "                                   length_penalty=0.8, num_beams=8, max_length=256)\n",
    "\n",
    "        decoded_summaries = [tokenizer.decode(s, skip_special_tokens=True, clean_up_tokenization_space=True) for s in summaries]\n",
    "        decoded_summaries = [d.replace(\"<n>\", \" \") for d in decoded_summaries]\n",
    "        metric.add_batch(predictions=decoded_summaries, references=target_batch)\n",
    "\n",
    "    score = metric.compute()\n",
    "    return score"
   ]
  },
  {
   "cell_type": "code",
   "execution_count": 34,
   "id": "f6ede6dd-067f-495a-b8d9-767b1281af43",
   "metadata": {},
   "outputs": [],
   "source": [
    "from transformers import AutoModelForSeq2SeqLM, AutoTokenizer"
   ]
  },
  {
   "cell_type": "code",
   "execution_count": 35,
   "id": "c199e140-f289-40ff-9e1b-bad5645a169c",
   "metadata": {},
   "outputs": [],
   "source": [
    "model_ckpt = \"Falconsai/medical_summarization\""
   ]
  },
  {
   "cell_type": "code",
   "execution_count": 36,
   "id": "2d13a28a-4cce-4ca5-9288-77565004312c",
   "metadata": {},
   "outputs": [],
   "source": [
    "tokenizer = AutoTokenizer.from_pretrained(model_ckpt)"
   ]
  },
  {
   "cell_type": "code",
   "execution_count": 38,
   "id": "20e79144-9fe7-4570-96af-71ef360f29f2",
   "metadata": {},
   "outputs": [],
   "source": [
    "model = AutoModelForSeq2SeqLM.from_pretrained(model_ckpt).to(device)"
   ]
  },
  {
   "cell_type": "code",
   "execution_count": 43,
   "id": "7b5477ff-d407-40df-8dcc-cf25e1f00c50",
   "metadata": {},
   "outputs": [
    {
     "name": "stdout",
     "output_type": "stream",
     "text": [
      "Running batch 1 of 200\n",
      "Running batch 11 of 200\n",
      "Running batch 21 of 200\n",
      "Running batch 31 of 200\n",
      "Running batch 41 of 200\n",
      "Running batch 51 of 200\n",
      "Running batch 61 of 200\n",
      "Running batch 71 of 200\n",
      "Running batch 81 of 200\n",
      "Running batch 91 of 200\n",
      "Running batch 101 of 200\n",
      "Running batch 111 of 200\n",
      "Running batch 121 of 200\n",
      "Running batch 131 of 200\n",
      "Running batch 141 of 200\n",
      "Running batch 151 of 200\n",
      "Running batch 161 of 200\n",
      "Running batch 171 of 200\n",
      "Running batch 181 of 200\n",
      "Running batch 191 of 200\n"
     ]
    }
   ],
   "source": [
    "score = evaluate_summaries(test_sampled, rouge_metric, model, tokenizer, batch_size=8)"
   ]
  },
  {
   "cell_type": "code",
   "execution_count": 44,
   "id": "95b23b29-0bec-4db6-adde-2bc6ce636b6b",
   "metadata": {},
   "outputs": [
    {
     "data": {
      "text/html": [
       "<div>\n",
       "<style scoped>\n",
       "    .dataframe tbody tr th:only-of-type {\n",
       "        vertical-align: middle;\n",
       "    }\n",
       "\n",
       "    .dataframe tbody tr th {\n",
       "        vertical-align: top;\n",
       "    }\n",
       "\n",
       "    .dataframe thead th {\n",
       "        text-align: right;\n",
       "    }\n",
       "</style>\n",
       "<table border=\"1\" class=\"dataframe\">\n",
       "  <thead>\n",
       "    <tr style=\"text-align: right;\">\n",
       "      <th></th>\n",
       "      <th>rouge1</th>\n",
       "      <th>rouge2</th>\n",
       "      <th>rougeL</th>\n",
       "      <th>rougeLsum</th>\n",
       "    </tr>\n",
       "  </thead>\n",
       "  <tbody>\n",
       "    <tr>\n",
       "      <th>falconsai</th>\n",
       "      <td>0.362385</td>\n",
       "      <td>0.145307</td>\n",
       "      <td>0.225378</td>\n",
       "      <td>0.308867</td>\n",
       "    </tr>\n",
       "  </tbody>\n",
       "</table>\n",
       "</div>"
      ],
      "text/plain": [
       "             rouge1    rouge2    rougeL  rougeLsum\n",
       "falconsai  0.362385  0.145307  0.225378   0.308867"
      ]
     },
     "execution_count": 44,
     "metadata": {},
     "output_type": "execute_result"
    }
   ],
   "source": [
    "rouge_dict = dict((rn, score[rn].mid.fmeasure) for rn in rouge_names)\n",
    "pd.DataFrame(rouge_dict, index=[\"falconsai\"])"
   ]
  },
  {
   "cell_type": "code",
   "execution_count": null,
   "id": "20ca18a3-4b12-4562-9d70-03466729a239",
   "metadata": {},
   "outputs": [],
   "source": []
  }
 ],
 "metadata": {
  "kernelspec": {
   "display_name": "Python 3 (ipykernel)",
   "language": "python",
   "name": "python3"
  },
  "language_info": {
   "codemirror_mode": {
    "name": "ipython",
    "version": 3
   },
   "file_extension": ".py",
   "mimetype": "text/x-python",
   "name": "python",
   "nbconvert_exporter": "python",
   "pygments_lexer": "ipython3",
   "version": "3.8.10"
  }
 },
 "nbformat": 4,
 "nbformat_minor": 5
}
